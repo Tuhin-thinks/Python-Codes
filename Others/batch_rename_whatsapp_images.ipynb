{
 "cells": [
  {
   "cell_type": "code",
   "execution_count": 1,
   "source": [
    "import os\n",
    "import re\n",
    "from datetime import datetime\n",
    "from IPython.display import display"
   ],
   "outputs": [],
   "metadata": {}
  },
  {
   "cell_type": "markdown",
   "source": [
    "## Collect jpeg files in the PWD"
   ],
   "metadata": {}
  },
  {
   "cell_type": "code",
   "execution_count": 18,
   "source": [
    "files = [file for file in os.listdir(os.getcwd()) if file.endswith('.jpeg')]\n",
    "files"
   ],
   "outputs": [
    {
     "output_type": "execute_result",
     "data": {
      "text/plain": [
       "['WhatsApp Image 2021-09-14 at 16.39.23.jpeg',\n",
       " 'WhatsApp Image 2021-09-14 at 16.38.42.jpeg',\n",
       " 'WhatsApp Image 2021-09-14 at 16.12.02.jpeg',\n",
       " 'WhatsApp Image 2021-09-14 at 15.57.20.jpeg',\n",
       " 'WhatsApp Image 2021-09-14 at 16.21.01.jpeg',\n",
       " 'WhatsApp Image 2021-09-14 at 16.37.10.jpeg',\n",
       " 'WhatsApp Image 2021-09-14 at 16.11.41.jpeg',\n",
       " 'WhatsApp Image 2021-09-14 at 16.25.40.jpeg']"
      ]
     },
     "metadata": {},
     "execution_count": 18
    }
   ],
   "metadata": {}
  },
  {
   "cell_type": "markdown",
   "source": [
    "## *Filter out date and time from whatsapp file names*"
   ],
   "metadata": {}
  },
  {
   "cell_type": "code",
   "execution_count": 28,
   "source": [
    "pattern = \"(?P<date>\\d{4}-\\d{2}-\\d{1,2}) at (?P<time>\\d{1,2}\\.\\d{1,2}\\.\\d{1,2})\\.jpeg\"\n",
    "regex = re.compile(pattern)\n",
    "file_dt_time = []\n",
    "for file_name in files:\n",
    "    try:\n",
    "        match = regex.search(file_name)\n",
    "        group_dict = match.groupdict()\n",
    "        file_dt_time.append([\n",
    "            file_name, \n",
    "            datetime.strptime(f\"{group_dict['date']} {group_dict['time']}\", \"%Y-%m-%d %H.%M.%S\")\n",
    "        ])\n",
    "    except Exception as e:\n",
    "        print(f\"skipped file: {file_name}\\n{e.__str__()}\")  # skip files that are not in same format as whatsapp images.\n",
    "\n",
    "sorted_files = sorted(file_dt_time, key=lambda x: x[1])\n",
    "sorted_file_names = [file[0] for file in sorted_files]\n",
    "print(\"Sorted in increasing order: <past time first>\")\n",
    "sorted_file_names"
   ],
   "outputs": [
    {
     "output_type": "stream",
     "name": "stdout",
     "text": [
      "Sorted in increasing order: <past time first>\n"
     ]
    },
    {
     "output_type": "execute_result",
     "data": {
      "text/plain": [
       "['WhatsApp Image 2021-09-14 at 15.57.20.jpeg',\n",
       " 'WhatsApp Image 2021-09-14 at 16.11.41.jpeg',\n",
       " 'WhatsApp Image 2021-09-14 at 16.12.02.jpeg',\n",
       " 'WhatsApp Image 2021-09-14 at 16.21.01.jpeg',\n",
       " 'WhatsApp Image 2021-09-14 at 16.25.40.jpeg',\n",
       " 'WhatsApp Image 2021-09-14 at 16.37.10.jpeg',\n",
       " 'WhatsApp Image 2021-09-14 at 16.38.42.jpeg',\n",
       " 'WhatsApp Image 2021-09-14 at 16.39.23.jpeg']"
      ]
     },
     "metadata": {},
     "execution_count": 28
    }
   ],
   "metadata": {}
  },
  {
   "cell_type": "markdown",
   "source": [
    "## Batch-rename files (based on sorted order)"
   ],
   "metadata": {}
  },
  {
   "cell_type": "code",
   "execution_count": 30,
   "source": [
    "def rename_files(files, prefix=\"\"):\n",
    "    for count, file in enumerate(files, 1):\n",
    "        new_name = os.path.join(os.path.dirname(file), f\"{prefix}{count}.jpeg\")\n",
    "        try:\n",
    "            os.rename(file,new_name)\n",
    "            print(\"[i] done!\")\n",
    "        except Exception as e:\n",
    "            print(\"[i] failed\")\n",
    "        display(f\"{file} -> {new_name}\")\n",
    "\n",
    "rename_files([file[0] for file in sorted_files])\n"
   ],
   "outputs": [
    {
     "output_type": "stream",
     "name": "stdout",
     "text": [
      "[i] done!\n"
     ]
    },
    {
     "output_type": "display_data",
     "data": {
      "text/plain": [
       "'WhatsApp Image 2021-09-14 at 15.57.20.jpeg -> 1.jpeg'"
      ]
     },
     "metadata": {}
    },
    {
     "output_type": "stream",
     "name": "stdout",
     "text": [
      "[i] done!\n"
     ]
    },
    {
     "output_type": "display_data",
     "data": {
      "text/plain": [
       "'WhatsApp Image 2021-09-14 at 16.11.41.jpeg -> 2.jpeg'"
      ]
     },
     "metadata": {}
    },
    {
     "output_type": "stream",
     "name": "stdout",
     "text": [
      "[i] done!\n"
     ]
    },
    {
     "output_type": "display_data",
     "data": {
      "text/plain": [
       "'WhatsApp Image 2021-09-14 at 16.12.02.jpeg -> 3.jpeg'"
      ]
     },
     "metadata": {}
    },
    {
     "output_type": "stream",
     "name": "stdout",
     "text": [
      "[i] done!\n"
     ]
    },
    {
     "output_type": "display_data",
     "data": {
      "text/plain": [
       "'WhatsApp Image 2021-09-14 at 16.21.01.jpeg -> 4.jpeg'"
      ]
     },
     "metadata": {}
    },
    {
     "output_type": "stream",
     "name": "stdout",
     "text": [
      "[i] done!\n"
     ]
    },
    {
     "output_type": "display_data",
     "data": {
      "text/plain": [
       "'WhatsApp Image 2021-09-14 at 16.25.40.jpeg -> 5.jpeg'"
      ]
     },
     "metadata": {}
    },
    {
     "output_type": "stream",
     "name": "stdout",
     "text": [
      "[i] done!\n"
     ]
    },
    {
     "output_type": "display_data",
     "data": {
      "text/plain": [
       "'WhatsApp Image 2021-09-14 at 16.37.10.jpeg -> 6.jpeg'"
      ]
     },
     "metadata": {}
    },
    {
     "output_type": "stream",
     "name": "stdout",
     "text": [
      "[i] done!\n"
     ]
    },
    {
     "output_type": "display_data",
     "data": {
      "text/plain": [
       "'WhatsApp Image 2021-09-14 at 16.38.42.jpeg -> 7.jpeg'"
      ]
     },
     "metadata": {}
    },
    {
     "output_type": "stream",
     "name": "stdout",
     "text": [
      "[i] done!\n"
     ]
    },
    {
     "output_type": "display_data",
     "data": {
      "text/plain": [
       "'WhatsApp Image 2021-09-14 at 16.39.23.jpeg -> 8.jpeg'"
      ]
     },
     "metadata": {}
    }
   ],
   "metadata": {}
  }
 ],
 "metadata": {
  "orig_nbformat": 4,
  "language_info": {
   "name": "python",
   "version": "3.8.10",
   "mimetype": "text/x-python",
   "codemirror_mode": {
    "name": "ipython",
    "version": 3
   },
   "pygments_lexer": "ipython3",
   "nbconvert_exporter": "python",
   "file_extension": ".py"
  },
  "kernelspec": {
   "name": "python3",
   "display_name": "Python 3.8.10 64-bit ('ds_env': venv)"
  },
  "interpreter": {
   "hash": "895ee0e21364f1282b39e6ac740520bfcf6a24eab6b7204953c2a0936af9aaf0"
  }
 },
 "nbformat": 4,
 "nbformat_minor": 2
}