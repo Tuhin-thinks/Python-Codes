{
 "cells": [
  {
   "cell_type": "code",
   "execution_count": 1,
   "id": "170eb313",
   "metadata": {},
   "outputs": [],
   "source": [
    "# https://www.geeksforgeeks.org/convert-base-decimal-vice-versa/\n",
    "# To convert decimal to any given base"
   ]
  },
  {
   "cell_type": "code",
   "execution_count": 2,
   "id": "647b1c73",
   "metadata": {},
   "outputs": [],
   "source": [
    "def toChar(x:int) -> str: \n",
    "    if (0 <= x < 10):\n",
    "        return chr(x + ord('0'));       # Return a character between '0' to '9'.\n",
    "    \n",
    "    elif (10 <= x < 36):\n",
    "        return chr(x - 10 + ord('A'));  # Return a character between 'A' to 'Z'.\n",
    "    \n",
    "    else:\n",
    "        return \"!\";                     # Return '!' when it is out of range."
   ]
  },
  {
   "cell_type": "code",
   "execution_count": 3,
   "id": "992b96a2",
   "metadata": {},
   "outputs": [],
   "source": [
    "def toBaseN(x:int, n:int) -> str: \n",
    "    output = \"\"\n",
    " \n",
    "    # Convert input number is given base by repeatedly dividing it by base and taking remainder\n",
    "    while (x > 0):\n",
    "        output += toChar(x % n);\n",
    "        x = int(x / n);\n",
    " \n",
    "    return output[::-1];  # Reverse the string"
   ]
  },
  {
   "cell_type": "code",
   "execution_count": 4,
   "id": "4269a9bc",
   "metadata": {},
   "outputs": [],
   "source": [
    "assert toBaseN(282, 16) == '11A'"
   ]
  },
  {
   "cell_type": "code",
   "execution_count": 5,
   "id": "08a44a8b",
   "metadata": {},
   "outputs": [],
   "source": [
    "assert toBaseN(43, 6) == '111'"
   ]
  },
  {
   "cell_type": "code",
   "execution_count": 6,
   "id": "1a077c5b",
   "metadata": {},
   "outputs": [],
   "source": [
    "assert toBaseN(15, 2) == '1111'"
   ]
  },
  {
   "cell_type": "code",
   "execution_count": 7,
   "id": "2fe1ed2d",
   "metadata": {},
   "outputs": [
    {
     "data": {
      "text/plain": [
       "'Z'"
      ]
     },
     "execution_count": 7,
     "metadata": {},
     "output_type": "execute_result"
    }
   ],
   "source": [
    "toBaseN(35, 50) "
   ]
  },
  {
   "cell_type": "code",
   "execution_count": 8,
   "id": "630fe7e4",
   "metadata": {},
   "outputs": [],
   "source": [
    "def isSameDigits(string:str) -> bool:\n",
    "    if len(string) < 2 or '!' in string:\n",
    "        return False\n",
    "    \n",
    "    for x in string[1:]:\n",
    "        if string[0] != x:\n",
    "            return False\n",
    "        \n",
    "    return True"
   ]
  },
  {
   "cell_type": "code",
   "execution_count": 9,
   "id": "fcd15c36",
   "metadata": {},
   "outputs": [],
   "source": [
    "assert isSameDigits('111211') == False"
   ]
  },
  {
   "cell_type": "code",
   "execution_count": 10,
   "id": "19ee68c4",
   "metadata": {},
   "outputs": [],
   "source": [
    "assert isSameDigits('1111')"
   ]
  },
  {
   "cell_type": "code",
   "execution_count": 11,
   "id": "49bd890e",
   "metadata": {},
   "outputs": [],
   "source": [
    "assert isSameDigits('AAAA')"
   ]
  },
  {
   "cell_type": "code",
   "execution_count": 12,
   "id": "dc9ca131",
   "metadata": {},
   "outputs": [
    {
     "name": "stdout",
     "output_type": "stream",
     "text": [
      "** 10 base-4 is '22'\n",
      "** 10 base-9 is '11'\n",
      "** 11 base-10 is '11'\n",
      "** 12 base-5 is '22'\n",
      "** 12 base-11 is '11'\n",
      "** 13 base-3 is '111'\n",
      "** 13 base-12 is '11'\n",
      "** 14 base-6 is '22'\n",
      "** 14 base-13 is '11'\n",
      "** 15 base-2 is '1111'\n",
      "** 15 base-4 is '33'\n",
      "** 15 base-14 is '11'\n",
      "** 16 base-7 is '22'\n",
      "** 16 base-15 is '11'\n",
      "** 17 base-16 is '11'\n",
      "** 18 base-5 is '33'\n",
      "** 18 base-8 is '22'\n",
      "** 18 base-17 is '11'\n",
      "** 19 base-18 is '11'\n",
      "** 20 base-9 is '22'\n",
      "** 20 base-19 is '11'\n",
      "** 21 base-4 is '111'\n",
      "** 21 base-6 is '33'\n",
      "** 21 base-20 is '11'\n",
      "** 22 base-10 is '22'\n",
      "** 22 base-21 is '11'\n",
      "** 23 base-22 is '11'\n",
      "** 24 base-5 is '44'\n",
      "** 24 base-7 is '33'\n",
      "** 24 base-11 is '22'\n",
      "** 24 base-23 is '11'\n",
      "** 25 base-24 is '11'\n",
      "** 26 base-3 is '222'\n",
      "** 26 base-12 is '22'\n",
      "** 26 base-25 is '11'\n",
      "** 27 base-8 is '33'\n",
      "** 27 base-26 is '11'\n",
      "** 28 base-6 is '44'\n",
      "** 28 base-13 is '22'\n",
      "** 28 base-27 is '11'\n",
      "** 29 base-28 is '11'\n",
      "** 30 base-9 is '33'\n",
      "** 30 base-14 is '22'\n",
      "** 30 base-29 is '11'\n",
      "** 31 base-2 is '11111'\n",
      "** 31 base-5 is '111'\n",
      "** 31 base-30 is '11'\n",
      "** 32 base-7 is '44'\n",
      "** 32 base-15 is '22'\n",
      "** 32 base-31 is '11'\n",
      "** 33 base-10 is '33'\n",
      "** 33 base-32 is '11'\n",
      "** 34 base-16 is '22'\n",
      "** 34 base-33 is '11'\n",
      "** 35 base-6 is '55'\n",
      "** 35 base-34 is '11'\n",
      "** 36 base-8 is '44'\n",
      "** 36 base-11 is '33'\n",
      "** 36 base-17 is '22'\n",
      "** 36 base-35 is '11'\n",
      "** 38 base-18 is '22'\n",
      "** 39 base-12 is '33'\n",
      "** 40 base-3 is '1111'\n",
      "** 40 base-7 is '55'\n",
      "** 40 base-9 is '44'\n",
      "** 40 base-19 is '22'\n",
      "** 42 base-4 is '222'\n",
      "** 42 base-13 is '33'\n",
      "** 42 base-20 is '22'\n",
      "** 43 base-6 is '111'\n",
      "** 44 base-10 is '44'\n",
      "** 44 base-21 is '22'\n",
      "** 45 base-8 is '55'\n",
      "** 45 base-14 is '33'\n",
      "** 46 base-22 is '22'\n",
      "** 48 base-7 is '66'\n",
      "** 48 base-11 is '44'\n",
      "** 48 base-15 is '33'\n",
      "** 48 base-23 is '22'\n",
      "** 50 base-9 is '55'\n",
      "** 50 base-24 is '22'\n",
      "** 51 base-16 is '33'\n",
      "** 52 base-12 is '44'\n",
      "** 52 base-25 is '22'\n",
      "** 54 base-8 is '66'\n",
      "** 54 base-17 is '33'\n",
      "** 54 base-26 is '22'\n",
      "** 55 base-10 is '55'\n",
      "** 56 base-13 is '44'\n",
      "** 56 base-27 is '22'\n",
      "** 57 base-7 is '111'\n",
      "** 57 base-18 is '33'\n",
      "** 58 base-28 is '22'\n",
      "** 60 base-9 is '66'\n",
      "** 60 base-11 is '55'\n",
      "** 60 base-14 is '44'\n",
      "** 60 base-19 is '33'\n",
      "** 60 base-29 is '22'\n",
      "** 62 base-5 is '222'\n",
      "** 62 base-30 is '22'\n",
      "** 63 base-2 is '111111'\n",
      "** 63 base-4 is '333'\n",
      "** 63 base-8 is '77'\n",
      "** 63 base-20 is '33'\n",
      "** 64 base-15 is '44'\n",
      "** 64 base-31 is '22'\n",
      "** 65 base-12 is '55'\n",
      "** 66 base-10 is '66'\n",
      "** 66 base-21 is '33'\n",
      "** 66 base-32 is '22'\n",
      "** 68 base-16 is '44'\n",
      "** 68 base-33 is '22'\n",
      "** 69 base-22 is '33'\n",
      "** 70 base-9 is '77'\n",
      "** 70 base-13 is '55'\n",
      "** 70 base-34 is '22'\n",
      "** 72 base-11 is '66'\n",
      "** 72 base-17 is '44'\n",
      "** 72 base-23 is '33'\n",
      "** 72 base-35 is '22'\n",
      "** 73 base-8 is '111'\n",
      "** 75 base-14 is '55'\n",
      "** 75 base-24 is '33'\n",
      "** 76 base-18 is '44'\n",
      "** 77 base-10 is '77'\n",
      "** 78 base-12 is '66'\n",
      "** 78 base-25 is '33'\n",
      "** 80 base-3 is '2222'\n",
      "** 80 base-9 is '88'\n",
      "** 80 base-15 is '55'\n",
      "** 80 base-19 is '44'\n",
      "** 81 base-26 is '33'\n",
      "** 84 base-11 is '77'\n",
      "** 84 base-13 is '66'\n",
      "** 84 base-20 is '44'\n",
      "** 84 base-27 is '33'\n",
      "** 85 base-4 is '1111'\n",
      "** 85 base-16 is '55'\n",
      "** 86 base-6 is '222'\n",
      "** 87 base-28 is '33'\n",
      "** 88 base-10 is '88'\n",
      "** 88 base-21 is '44'\n",
      "** 90 base-14 is '66'\n",
      "** 90 base-17 is '55'\n",
      "** 90 base-29 is '33'\n",
      "** 91 base-9 is '111'\n",
      "** 91 base-12 is '77'\n",
      "** 92 base-22 is '44'\n",
      "** 93 base-5 is '333'\n",
      "** 93 base-30 is '33'\n",
      "** 95 base-18 is '55'\n",
      "** 96 base-11 is '88'\n",
      "** 96 base-15 is '66'\n",
      "** 96 base-23 is '44'\n",
      "** 96 base-31 is '33'\n",
      "** 98 base-13 is '77'\n",
      "** 99 base-10 is '99'\n",
      "** 99 base-32 is '33'\n"
     ]
    }
   ],
   "source": [
    "for x in range(10, 100):\n",
    "    for n in range(2, 36):\n",
    "        string = toBaseN(x, n)\n",
    "        #print(\"** {} base-{} is '{}'\".format(x, n, string), end='')\n",
    "        if isSameDigits(string):\n",
    "            #print(\" ******** \")\n",
    "            print(\"** {} base-{} is '{}'\".format(x, n, string))"
   ]
  },
  {
   "cell_type": "code",
   "execution_count": 13,
   "id": "49e402f9",
   "metadata": {},
   "outputs": [],
   "source": [
    "def func2(x:int):\n",
    "    for n in range(2, 36):\n",
    "        string = toBaseN(x, n)\n",
    "        if isSameDigits(string):\n",
    "            print(\"** {} base-{} is '{}'\".format(x, n, string))"
   ]
  },
  {
   "cell_type": "code",
   "execution_count": 14,
   "id": "ebc7fb5b",
   "metadata": {},
   "outputs": [
    {
     "name": "stdout",
     "output_type": "stream",
     "text": [
      "** 80 base-3 is '2222'\n",
      "** 80 base-9 is '88'\n",
      "** 80 base-15 is '55'\n",
      "** 80 base-19 is '44'\n"
     ]
    }
   ],
   "source": [
    "func2(80) "
   ]
  },
  {
   "cell_type": "code",
   "execution_count": 15,
   "id": "9d01c340",
   "metadata": {},
   "outputs": [
    {
     "name": "stdout",
     "output_type": "stream",
     "text": [
      "** 400 base-7 is '1111'\n",
      "** 400 base-24 is 'GG'\n"
     ]
    }
   ],
   "source": [
    "func2(400)"
   ]
  },
  {
   "cell_type": "code",
   "execution_count": null,
   "id": "8c547606",
   "metadata": {},
   "outputs": [],
   "source": []
  }
 ],
 "metadata": {
  "kernelspec": {
   "display_name": "Python 3",
   "language": "python",
   "name": "python3"
  },
  "language_info": {
   "codemirror_mode": {
    "name": "ipython",
    "version": 3
   },
   "file_extension": ".py",
   "mimetype": "text/x-python",
   "name": "python",
   "nbconvert_exporter": "python",
   "pygments_lexer": "ipython3",
   "version": "3.8.8"
  }
 },
 "nbformat": 4,
 "nbformat_minor": 5
}
